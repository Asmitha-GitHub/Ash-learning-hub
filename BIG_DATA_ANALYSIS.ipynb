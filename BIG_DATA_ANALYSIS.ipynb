{
  "nbformat": 4,
  "nbformat_minor": 0,
  "metadata": {
    "colab": {
      "provenance": [],
      "authorship_tag": "ABX9TyPrGzZ+3DUicL0IGdQT/oFD",
      "include_colab_link": true
    },
    "kernelspec": {
      "name": "python3",
      "display_name": "Python 3"
    },
    "language_info": {
      "name": "python"
    }
  },
  "cells": [
    {
      "cell_type": "markdown",
      "metadata": {
        "id": "view-in-github",
        "colab_type": "text"
      },
      "source": [
        "<a href=\"https://colab.research.google.com/github/Asmitha-GitHub/Ash-learning-hub/blob/main/BIG_DATA_ANALYSIS.ipynb\" target=\"_parent\"><img src=\"https://colab.research.google.com/assets/colab-badge.svg\" alt=\"Open In Colab\"/></a>"
      ]
    },
    {
      "cell_type": "code",
      "execution_count": null,
      "metadata": {
        "id": "1gQ-ZHfmBCis"
      },
      "outputs": [],
      "source": [
        "# ✅ Install Java\n",
        "!apt-get install openjdk-8-jdk-headless -qq > /dev/null\n",
        "\n",
        "# ✅ Download Spark 3.3.0 (compatible with Colab's Python)\n",
        "!wget -q https://archive.apache.org/dist/spark/spark-3.3.0/spark-3.3.0-bin-hadoop3.tgz\n",
        "\n",
        "# ✅ Extract Spark\n",
        "!tar -xvzf spark-3.3.0-bin-hadoop3.tgz\n",
        "\n",
        "# ✅ Install findspark\n",
        "!pip install -q findspark\n",
        "\n",
        "# ✅ Set environment variables\n",
        "import os\n",
        "os.environ[\"JAVA_HOME\"] = \"/usr/lib/jvm/java-8-openjdk-amd64\"\n",
        "os.environ[\"SPARK_HOME\"] = \"/content/spark-3.3.0-bin-hadoop3\"\n",
        "\n",
        "# ✅ Initialize findspark\n",
        "import findspark\n",
        "findspark.init()\n"
      ]
    },
    {
      "cell_type": "code",
      "source": [
        "from pyspark.sql import SparkSession\n",
        "\n",
        "spark = SparkSession.builder \\\n",
        "    .appName(\"Flight Delay Analysis\") \\\n",
        "    .getOrCreate()\n",
        "\n",
        "spark"
      ],
      "metadata": {
        "id": "uBZykWxWBMx0"
      },
      "execution_count": null,
      "outputs": []
    },
    {
      "cell_type": "code",
      "source": [
        "from google.colab import drive\n",
        "drive.mount('/content/drive')\n",
        "\n"
      ],
      "metadata": {
        "id": "PzrKuWuABbNI"
      },
      "execution_count": null,
      "outputs": []
    },
    {
      "cell_type": "code",
      "source": [
        "from pyspark.sql import SparkSession\n",
        "\n",
        "spark = SparkSession.builder \\\n",
        "    .appName(\"Flight Delay Analysis\") \\\n",
        "    .getOrCreate()\n"
      ],
      "metadata": {
        "id": "eyFq7wRdIkmJ"
      },
      "execution_count": null,
      "outputs": []
    },
    {
      "cell_type": "code",
      "source": [
        "df = spark.read.csv(\"/content/drive/MyDrive/flights_sample_3m.csv\", header=True, inferSchema=True)\n",
        "df.show(5)\n"
      ],
      "metadata": {
        "id": "QZyKMGKVIp0S"
      },
      "execution_count": null,
      "outputs": []
    },
    {
      "cell_type": "code",
      "source": [
        "df.printSchema()\n"
      ],
      "metadata": {
        "id": "-81PlpHQI9VS"
      },
      "execution_count": null,
      "outputs": []
    },
    {
      "cell_type": "code",
      "source": [
        "df.groupBy(\"AIRLINE\").avg(\"ARR_DELAY\").orderBy(\"avg(ARR_DELAY)\", ascending=False).show()\n"
      ],
      "metadata": {
        "id": "sHzRdjESJQrZ"
      },
      "execution_count": null,
      "outputs": []
    },
    {
      "cell_type": "code",
      "source": [
        "import matplotlib.pyplot as plt\n",
        "\n",
        "# Collect small sample to driver for plotting\n",
        "delay_data = df.select(\"ARR_DELAY\").dropna().limit(1000).toPandas()\n",
        "\n",
        "plt.figure(figsize=(10, 5))\n",
        "plt.hist(delay_data[\"ARR_DELAY\"], bins=40, color=\"skyblue\", edgecolor=\"black\")\n",
        "plt.title(\"Arrival Delay Distribution\")\n",
        "plt.xlabel(\"Delay (minutes)\")\n",
        "plt.ylabel(\"Number of Flights\")\n",
        "plt.grid(True)\n",
        "plt.show()\n"
      ],
      "metadata": {
        "id": "Y4SmEbY5Jcep"
      },
      "execution_count": null,
      "outputs": []
    },
    {
      "cell_type": "code",
      "source": [
        "df.filter(df.CANCELLED == 1).groupBy(\"CANCELLATION_CODE\").count().show()\n"
      ],
      "metadata": {
        "id": "8GG0ElkpJmAp"
      },
      "execution_count": null,
      "outputs": []
    },
    {
      "cell_type": "code",
      "source": [
        "df.groupBy(\"ORIGIN_CITY\").count().orderBy(\"count\", ascending=False).show(10)\n"
      ],
      "metadata": {
        "id": "xd3KIHaGJp3q"
      },
      "execution_count": null,
      "outputs": []
    }
  ]
}